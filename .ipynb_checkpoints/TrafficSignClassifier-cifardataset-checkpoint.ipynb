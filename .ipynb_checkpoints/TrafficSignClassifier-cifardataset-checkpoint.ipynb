{
 "cells": [
  {
   "cell_type": "markdown",
   "metadata": {},
   "source": [
    "# Traffic Sign Classifier\n"
   ]
  },
  {
   "cell_type": "markdown",
   "metadata": {},
   "source": [
    "### Load The Data"
   ]
  },
  {
   "cell_type": "code",
   "execution_count": 33,
   "metadata": {},
   "outputs": [
    {
     "name": "stdout",
     "output_type": "stream",
     "text": [
      "Data Loaded\n"
     ]
    }
   ],
   "source": [
    "# Load pickled data\n",
    "import pickle\n",
    "\n",
    "training_file = 'train.p'\n",
    "validation_file= 'valid.p'\n",
    "testing_file =  'test.p'\n",
    "\n",
    "with open(training_file, mode='rb') as f:\n",
    "    train = pickle.load(f)\n",
    "with open(validation_file, mode='rb') as f:\n",
    "    valid = pickle.load(f)\n",
    "with open(testing_file, mode='rb') as f:\n",
    "    test = pickle.load(f)\n",
    "    \n",
    "X_train, y_train = train['features'], train['labels']\n",
    "X_valid, y_valid = valid['features'], valid['labels']\n",
    "X_test, y_test = test['features'], test['labels']\n",
    "\n",
    "print('Data Loaded')"
   ]
  },
  {
   "cell_type": "markdown",
   "metadata": {},
   "source": [
    "### Summary of Data "
   ]
  },
  {
   "cell_type": "code",
   "execution_count": 31,
   "metadata": {},
   "outputs": [
    {
     "name": "stdout",
     "output_type": "stream",
     "text": [
      "Number of training examples = 34799\n",
      "Number of testing examples = 12630\n",
      "Number of testing samples = 12630\n",
      "Image data shape = (32, 32)\n",
      "Number of classes = 43\n"
     ]
    }
   ],
   "source": [
    "import numpy as np\n",
    "\n",
    "n_train = X_train.shape[0]\n",
    "n_validation = X_valid.shape[0]\n",
    "n_test = X_test.shape[0]\n",
    "image_shape = X_train.shape[1:3]\n",
    "n_classes = len(np.unique(y_test))\n",
    "\n",
    "print(\"Number of training examples =\", n_train)\n",
    "print(\"Number of testing examples =\", n_test)\n",
    "print(\"Number of testing samples =\",n_test)\n",
    "print(\"Image data shape =\", image_shape)\n",
    "print(\"Number of classes =\", n_classes)\n"
   ]
  },
  {
   "cell_type": "markdown",
   "metadata": {},
   "source": [
    "### Plot Random Images From Training Set"
   ]
  },
  {
   "cell_type": "code",
   "execution_count": 36,
   "metadata": {},
   "outputs": [
    {
     "data": {
      "image/png": "[encoded data removed]",
      "text/plain": [
       "<matplotlib.figure.Figure at 0x7f3f7f390390>"
      ]
     },
     "metadata": {},
     "output_type": "display_data"
    }
   ],
   "source": [
    "import matplotlib.pyplot as plt\n",
    "import random\n",
    "%matplotlib inline\n",
    "\n",
    "\"\"\"\n",
    "#Plot images from the features set\n",
    "image_num = random.randint(0,n_train)\n",
    "image = X_train[image_num]\n",
    "if(len(image.shape) > 2):\n",
    "    imgplot = plt.imshow(image)\n",
    "else:\n",
    "    imgplot = plt.imshow(image,cmap='gray')\n",
    "\"\"\"\n",
    "    \n",
    "plt.hist(y_train,43)\n",
    "plt.hist(y_valid,43)\n",
    "plt.hist(y_test,43)\n",
    "plt.show()"
   ]
  },
  {
   "cell_type": "markdown",
   "metadata": {},
   "source": [
    "### Pre-process the Data Set "
   ]
  },
  {
   "cell_type": "code",
   "execution_count": 4,
   "metadata": {},
   "outputs": [
    {
     "name": "stdout",
     "output_type": "stream",
     "text": [
      "Images converted to grayscale\n"
     ]
    }
   ],
   "source": [
    "def rgb2gray(images):\n",
    "    \n",
    "    r, g, b = images[:,:,:,0], images[:,:,:,1], images[:,:,:,2]\n",
    "    gray = 0.2126 * r + 0.7152* g + 0.0722 * b\n",
    "    return gray\n",
    "\n",
    "#Convert to grayscale and reshape\n",
    "if(len(X_train.shape) > 3):\n",
    "    X_train = np.reshape(rgb2gray(X_train),(n_train,32,32,1))\n",
    "    X_valid = np.reshape(rgb2gray(X_valid),(n_validation,32,32,1))\n",
    "    X_test = np.reshape(rgb2gray(X_test),(n_test,32,32,1))\n",
    "\n",
    "\n",
    "    \n",
    "print(\"Images converted to grayscale\")"
   ]
  },
  {
   "cell_type": "markdown",
   "metadata": {},
   "source": [
    "### Model Architecture"
   ]
  },
  {
   "cell_type": "code",
   "execution_count": 5,
   "metadata": {
    "collapsed": true
   },
   "outputs": [],
   "source": [
    "#Example architecture\n",
    "from tensorflow.contrib.layers import flatten\n",
    "\n",
    "def LeNet(x,keep_prob):    \n",
    "    # Arguments used for tf.truncated_normal, randomly defines variables for the weights and biases for each layer\n",
    "    mu = 0\n",
    "    sigma = 0.01\n",
    "    \n",
    "    # Layer 1: Convolutional. Input = 32x32x1. Output = 28x28x10.\n",
    "    conv1_W = tf.Variable(tf.truncated_normal(shape=(5, 5, 1, 10), mean = mu, stddev = sigma))\n",
    "    conv1_b = tf.Variable(tf.zeros(10))\n",
    "    conv1   = tf.nn.conv2d(x, conv1_W, strides=[1, 1, 1, 1], padding='VALID') + conv1_b\n",
    "\n",
    "    # Activation.\n",
    "    conv1 = tf.nn.relu(conv1)\n",
    "\n",
    "    # Pooling. Input = 28x28x10. Output = 14x14x10.\n",
    "    conv1 = tf.nn.max_pool(conv1, ksize=[1, 2, 2, 1], strides=[1, 2, 2, 1], padding='VALID')\n",
    "    \n",
    "    #Dropout\n",
    "    conv1 = tf.nn.dropout(conv1,keep_prob)\n",
    "    \n",
    "    # Layer 2: Convolutional Input = 14x14x10 Output = 10x10x24.\n",
    "    conv2_W = tf.Variable(tf.truncated_normal(shape=(5, 5, 10, 24), mean = mu, stddev = sigma))\n",
    "    conv2_b = tf.Variable(tf.zeros(24))\n",
    "    conv2   = tf.nn.conv2d(conv1, conv2_W, strides=[1, 1, 1, 1], padding='VALID') + conv2_b\n",
    "    \n",
    "    # Activation.\n",
    "    conv2 = tf.nn.relu(conv2)\n",
    "\n",
    "    # Pooling. Input = 10x10x24. Output = 5x5x24.\n",
    "    conv2 = tf.nn.max_pool(conv2, ksize=[1, 2, 2, 1], strides=[1, 2, 2, 1], padding='VALID')\n",
    "\n",
    "    #Dropout\n",
    "    conv2 = tf.nn.dropout(conv2,keep_prob)\n",
    "    \n",
    "    # Flatten. Input = 5x5x16. Output = 600.\n",
    "    fc0   = flatten(conv2)\n",
    "    \n",
    "    # Layer 3: Fully Connected. Input = 600. Output = 240.\n",
    "    fc1_W = tf.Variable(tf.truncated_normal(shape=(600, 240), mean = mu, stddev = sigma))\n",
    "    fc1_b = tf.Variable(tf.zeros(240))\n",
    "    fc1   = tf.matmul(fc0, fc1_W) + fc1_b\n",
    "    \n",
    "    # Activation.\n",
    "    fc1    = tf.nn.relu(fc1)\n",
    "\n",
    "    # Layer 4: Fully Connected. Input = 240. Output = 120.\n",
    "    fc2_W  = tf.Variable(tf.truncated_normal(shape=(240, 120), mean = mu, stddev = sigma))\n",
    "    fc2_b  = tf.Variable(tf.zeros(120))\n",
    "    fc2    = tf.matmul(fc1, fc2_W) + fc2_b\n",
    "    \n",
    "    # Activation.\n",
    "    fc2    = tf.nn.relu(fc2)\n",
    "\n",
    "    # Layer 5: Fully Connected. Input = 120. Output = 43.\n",
    "    fc3_W  = tf.Variable(tf.truncated_normal(shape=(120, 43), mean = mu, stddev = sigma))\n",
    "    fc3_b  = tf.Variable(tf.zeros(43))\n",
    "    logits = tf.matmul(fc2, fc3_W) + fc3_b\n",
    "    \n",
    "    return logits"
   ]
  },
  {
   "cell_type": "markdown",
   "metadata": {},
   "source": [
    "### Build the Model"
   ]
  },
  {
   "cell_type": "code",
   "execution_count": 12,
   "metadata": {},
   "outputs": [
    {
     "name": "stdout",
     "output_type": "stream",
     "text": [
      "Model Built\n"
     ]
    }
   ],
   "source": [
    "import tensorflow as tf\n",
    "#Training Parameters\n",
    "learning_rate = 0.0002\n",
    "EPOCHS = 50\n",
    "BATCH_SIZE = 128\n",
    "KEEP_PROB = 0.65\n",
    "\n",
    "#Model\n",
    "keep_prob = tf.placeholder(tf.float32)\n",
    "x = tf.placeholder(tf.float32,shape=(None,32,32,1))\n",
    "logits=LeNet(x,keep_prob)\n",
    "\n",
    "y = tf.placeholder(tf.int32,(None))\n",
    "one_hot_y = tf.one_hot(y,43)\n",
    "\n",
    "\n",
    "# Calculate the loss\n",
    "cross_entropy = tf.nn.softmax_cross_entropy_with_logits(labels=one_hot_y,logits=logits)\n",
    "loss = tf.reduce_mean(cross_entropy)\n",
    "\n",
    "#Set up the optimizer\n",
    "optimizer = tf.train.AdamOptimizer(learning_rate)\n",
    "training_op = optimizer.minimize(loss)\n",
    "\n",
    "print(\"Model Built\")"
   ]
  },
  {
   "cell_type": "markdown",
   "metadata": {},
   "source": [
    "### Model Evaluation"
   ]
  },
  {
   "cell_type": "code",
   "execution_count": 13,
   "metadata": {
    "collapsed": true
   },
   "outputs": [],
   "source": [
    "correct_prediction = tf.equal(tf.argmax(logits, 1), tf.argmax(one_hot_y, 1))\n",
    "prediction = tf.argmax(logits,1)\n",
    "accuracy_operation = tf.reduce_mean(tf.cast(correct_prediction, tf.float32))\n",
    "saver = tf.train.Saver()\n",
    "\n",
    "softmax_logits = tf.nn.softmax(logits)\n",
    "top_k = tf.nn.top_k(softmax_logits,k=5)\n",
    "\n",
    "def evaluate(X_data, y_data):\n",
    "    num_examples = len(X_data)\n",
    "    total_accuracy = 0\n",
    "    sess = tf.get_default_session()\n",
    "    for offset in range(0, num_examples, BATCH_SIZE):\n",
    "        batch_x, batch_y = X_data[offset:offset+BATCH_SIZE], y_data[offset:offset+BATCH_SIZE]\n",
    "        accuracy = sess.run(accuracy_operation, feed_dict={x: batch_x, y: batch_y,keep_prob: 1.0})\n",
    "        total_accuracy += (accuracy * len(batch_x))\n",
    "    return total_accuracy / num_examples"
   ]
  },
  {
   "cell_type": "markdown",
   "metadata": {},
   "source": [
    "### Train the Model"
   ]
  },
  {
   "cell_type": "code",
   "execution_count": 14,
   "metadata": {
    "scrolled": true
   },
   "outputs": [
    {
     "name": "stdout",
     "output_type": "stream",
     "text": [
      "Training...\n",
      "\n",
      "EPOCH 1 ...\n",
      "Validation Accuracy = 0.239\n",
      "\n",
      "EPOCH 2 ...\n",
      "Validation Accuracy = 0.587\n",
      "\n",
      "EPOCH 3 ...\n",
      "Validation Accuracy = 0.719\n",
      "\n",
      "EPOCH 4 ...\n",
      "Validation Accuracy = 0.789\n",
      "\n",
      "EPOCH 5 ...\n",
      "Validation Accuracy = 0.812\n",
      "\n",
      "EPOCH 6 ...\n",
      "Validation Accuracy = 0.851\n",
      "\n",
      "EPOCH 7 ...\n",
      "Validation Accuracy = 0.866\n",
      "\n",
      "EPOCH 8 ...\n",
      "Validation Accuracy = 0.875\n",
      "\n",
      "EPOCH 9 ...\n",
      "Validation Accuracy = 0.898\n",
      "\n",
      "EPOCH 10 ...\n",
      "Validation Accuracy = 0.916\n",
      "\n",
      "EPOCH 11 ...\n",
      "Validation Accuracy = 0.919\n",
      "\n",
      "EPOCH 12 ...\n",
      "Validation Accuracy = 0.932\n",
      "\n",
      "EPOCH 13 ...\n",
      "Validation Accuracy = 0.912\n",
      "\n",
      "EPOCH 14 ...\n",
      "Validation Accuracy = 0.932\n",
      "\n",
      "EPOCH 15 ...\n",
      "Validation Accuracy = 0.932\n",
      "\n",
      "EPOCH 16 ...\n",
      "Validation Accuracy = 0.926\n",
      "\n",
      "EPOCH 17 ...\n",
      "Validation Accuracy = 0.930\n",
      "\n",
      "EPOCH 18 ...\n",
      "Validation Accuracy = 0.934\n",
      "\n",
      "EPOCH 19 ...\n",
      "Validation Accuracy = 0.928\n",
      "\n",
      "EPOCH 20 ...\n",
      "Validation Accuracy = 0.935\n",
      "\n",
      "EPOCH 21 ...\n",
      "Validation Accuracy = 0.941\n",
      "\n",
      "EPOCH 22 ...\n",
      "Validation Accuracy = 0.925\n",
      "\n",
      "EPOCH 23 ...\n",
      "Validation Accuracy = 0.931\n",
      "\n",
      "EPOCH 24 ...\n",
      "Validation Accuracy = 0.934\n",
      "\n",
      "EPOCH 25 ...\n",
      "Validation Accuracy = 0.931\n",
      "\n",
      "EPOCH 26 ...\n",
      "Validation Accuracy = 0.935\n",
      "\n",
      "EPOCH 27 ...\n",
      "Validation Accuracy = 0.935\n",
      "\n",
      "EPOCH 28 ...\n",
      "Validation Accuracy = 0.935\n",
      "\n",
      "EPOCH 29 ...\n",
      "Validation Accuracy = 0.938\n",
      "\n",
      "EPOCH 30 ...\n",
      "Validation Accuracy = 0.941\n",
      "\n",
      "EPOCH 31 ...\n",
      "Validation Accuracy = 0.944\n",
      "\n",
      "EPOCH 32 ...\n",
      "Validation Accuracy = 0.931\n",
      "\n",
      "EPOCH 33 ...\n",
      "Validation Accuracy = 0.938\n",
      "\n",
      "EPOCH 34 ...\n",
      "Validation Accuracy = 0.937\n",
      "\n",
      "EPOCH 35 ...\n",
      "Validation Accuracy = 0.942\n",
      "\n",
      "EPOCH 36 ...\n",
      "Validation Accuracy = 0.946\n",
      "\n",
      "EPOCH 37 ...\n",
      "Validation Accuracy = 0.948\n",
      "\n",
      "EPOCH 38 ...\n",
      "Validation Accuracy = 0.936\n",
      "\n",
      "EPOCH 39 ...\n",
      "Validation Accuracy = 0.939\n",
      "\n",
      "EPOCH 40 ...\n",
      "Validation Accuracy = 0.940\n",
      "\n",
      "EPOCH 41 ...\n",
      "Validation Accuracy = 0.939\n",
      "\n",
      "EPOCH 42 ...\n",
      "Validation Accuracy = 0.942\n",
      "\n",
      "EPOCH 43 ...\n",
      "Validation Accuracy = 0.946\n",
      "\n",
      "EPOCH 44 ...\n",
      "Validation Accuracy = 0.948\n",
      "\n",
      "EPOCH 45 ...\n",
      "Validation Accuracy = 0.937\n",
      "\n",
      "EPOCH 46 ...\n",
      "Validation Accuracy = 0.944\n",
      "\n",
      "EPOCH 47 ...\n",
      "Validation Accuracy = 0.945\n",
      "\n",
      "EPOCH 48 ...\n",
      "Validation Accuracy = 0.935\n",
      "\n",
      "EPOCH 49 ...\n",
      "Validation Accuracy = 0.940\n",
      "\n",
      "EPOCH 50 ...\n",
      "Validation Accuracy = 0.951\n",
      "\n",
      "Model saved\n"
     ]
    }
   ],
   "source": [
    "from sklearn.utils import shuffle\n",
    "\n",
    "with tf.Session() as sess:\n",
    "    #Initiate variables\n",
    "    init = tf.global_variables_initializer()\n",
    "    sess.run(init)\n",
    "    num_examples = len(X_train)\n",
    "    \n",
    "    print(\"Training...\")\n",
    "    print()\n",
    "    for i in range(EPOCHS):\n",
    "        X_train, y_train = shuffle(X_train, y_train)\n",
    "        for offset in range(0, num_examples, BATCH_SIZE):\n",
    "            end = offset + BATCH_SIZE\n",
    "            batch_x, batch_y = X_train[offset:end], y_train[offset:end]\n",
    "            sess.run(training_op, feed_dict={x: batch_x, y: batch_y,keep_prob:KEEP_PROB})\n",
    "            \n",
    "        validation_accuracy = evaluate(X_valid, y_valid)\n",
    "        print(\"EPOCH {} ...\".format(i+1))\n",
    "        print(\"Validation Accuracy = {:.3f}\".format(validation_accuracy))\n",
    "        print()\n",
    "        \n",
    "    saver.save(sess, './lenet')\n",
    "    print(\"Model saved\")\n",
    "        "
   ]
  },
  {
   "cell_type": "markdown",
   "metadata": {},
   "source": [
    "### Test the Model on the Test Set"
   ]
  },
  {
   "cell_type": "code",
   "execution_count": 15,
   "metadata": {},
   "outputs": [
    {
     "name": "stdout",
     "output_type": "stream",
     "text": [
      "INFO:tensorflow:Restoring parameters from ./lenet\n",
      "Test Accuracy = 0.933\n"
     ]
    }
   ],
   "source": [
    "with tf.Session() as sess:\n",
    "    saver.restore(sess, './lenet')\n",
    "\n",
    "    test_accuracy = evaluate(X_test, y_test)\n",
    "    print(\"Test Accuracy = {:.3f}\".format(test_accuracy))"
   ]
  },
  {
   "cell_type": "markdown",
   "metadata": {},
   "source": [
    "## Step 3: Test Model on Images from the Internet\n"
   ]
  },
  {
   "cell_type": "markdown",
   "metadata": {},
   "source": [
    "### Load and Output the Images"
   ]
  },
  {
   "cell_type": "code",
   "execution_count": 44,
   "metadata": {},
   "outputs": [
    {
     "name": "stdout",
     "output_type": "stream",
     "text": [
      "(1, 32, 32, 3)\n",
      "(1, 32, 32, 3)\n",
      "(1, 32, 32, 3)\n",
      "(1, 32, 32, 3)\n",
      "(1, 32, 32, 3)\n"
     ]
    },
    {
     "data": {
      "image/png": "[encoded data removed]",
      "text/plain": [
       "<matplotlib.figure.Figure at 0x7f3f7f320cc0>"
      ]
     },
     "metadata": {},
     "output_type": "display_data"
    }
   ],
   "source": [
    "import matplotlib.image as mpimg\n",
    "from PIL import Image\n",
    "from scipy import ndimage\n",
    "\n",
    "size = [32,32]\n",
    "images = []\n",
    "y_internet = np.array([23,14,1,13,25])\n",
    "\n",
    "for i in range(1,6):\n",
    "    img_loc = 'germansigns/sign' + str(i) + '.jpg'\n",
    "    img = Image.open(img_loc)\n",
    "    img = img.resize(size,Image.ANTIALIAS)\n",
    "    img = np.array(img)\n",
    "    img = np.resize(img,(1,32,32,3))\n",
    "    \n",
    "    images.append(img)\n",
    "    print(img.shape)\n",
    "\n",
    "X_internet = np.vstack(images)\n",
    "\n",
    "#Plot image\n",
    "image = X_internet[4]\n",
    "imgplot = plt.imshow(image)\n",
    "\n",
    "#Convert to grayscale\n",
    "#X_internet = np.resize(rgb2gray(X_internet),(X_internet.shape[0],32,32,1))\n"
   ]
  },
  {
   "cell_type": "markdown",
   "metadata": {},
   "source": [
    "### Predict the Sign Type for Each Image"
   ]
  },
  {
   "cell_type": "code",
   "execution_count": 17,
   "metadata": {},
   "outputs": [
    {
     "name": "stdout",
     "output_type": "stream",
     "text": [
      "INFO:tensorflow:Restoring parameters from ./lenet\n",
      "Prediction is [23 14 36 13 10]\n",
      "Accuracy is 0.600000023842\n"
     ]
    }
   ],
   "source": [
    "with tf.Session() as sess:\n",
    "    saver.restore(sess, './lenet')\n",
    "    \n",
    "    prediction = sess.run(prediction, feed_dict={x: X_internet, y: y_internet,keep_prob: 1.0})\n",
    "    print(\"Prediction is \" + str(prediction))\n",
    "    \n",
    "    validation_accuracy = evaluate(X_internet, y_internet)\n",
    "    print(\"Accuracy is \" + str(validation_accuracy))\n",
    "    "
   ]
  },
  {
   "cell_type": "markdown",
   "metadata": {},
   "source": [
    "### Output Top 5 Softmax Probabilities For Each Image Found on the Web"
   ]
  },
  {
   "cell_type": "code",
   "execution_count": 39,
   "metadata": {},
   "outputs": [
    {
     "name": "stdout",
     "output_type": "stream",
     "text": [
      "INFO:tensorflow:Restoring parameters from ./lenet\n",
      "Top Softmax are: \n",
      "[[ 1.       0.       0.       0.       0.     ]\n",
      " [ 0.99995  0.00004  0.00001  0.       0.     ]\n",
      " [ 0.75724  0.17651  0.02278  0.02167  0.02018]\n",
      " [ 1.       0.       0.       0.       0.     ]\n",
      " [ 0.90352  0.09557  0.00089  0.00002  0.     ]]\n"
     ]
    }
   ],
   "source": [
    "with tf.Session() as sess:\n",
    "    saver.restore(sess, './lenet')\n",
    "    softmax = sess.run(top_k,feed_dict={x: X_internet, y: y_internet,keep_prob: 1.0})\n",
    "    print(\"Top Softmax are: \")\n",
    "    np.set_printoptions(precision=5,suppress=True)\n",
    "    print(softmax[0])"
   ]
  }
 ],
 "metadata": {
  "anaconda-cloud": {},
  "kernelspec": {
   "display_name": "Python 3",
   "language": "python",
   "name": "python3"
  },
  "language_info": {
   "codemirror_mode": {
    "name": "ipython",
    "version": 3
   },
   "file_extension": ".py",
   "mimetype": "text/x-python",
   "name": "python",
   "nbconvert_exporter": "python",
   "pygments_lexer": "ipython3",
   "version": "3.5.3"
  }
 },
 "nbformat": 4,
 "nbformat_minor": 1
}
